{
 "cells": [
  {
   "cell_type": "markdown",
   "metadata": {},
   "source": [
    "Assumptions:\n",
    "-All costs are split equally among event participants\n",
    "-All names input are unique\n",
    "-All amounts are input in the same currency\n",
    "\n",
    "\n"
   ]
  },
  {
   "cell_type": "markdown",
   "metadata": {},
   "source": [
    "To do:\n",
    "\n",
    "Input validation:\n",
    "-Check expense input is positive float\n",
    "-Check participants exist as people already before being added to event\n",
    "-Check participants are not partcipating in another event before adding to Event\n",
    "\n",
    "Output issues:\n",
    "-Float division and rounding on breakdown leads to imprecision off by a couple cent, who pays the extra cent\n"
   ]
  },
  {
   "cell_type": "code",
   "execution_count": null,
   "metadata": {},
   "outputs": [],
   "source": [
    "class Person:\n",
    "    def __init__(self, name):\n",
    "        \n",
    "        '''\n",
    "            takes a name, initiliases a balance to 0 and an event lock to empty string\n",
    "        '''\n",
    "        self.name = name\n",
    "        self.__balance = 0\n",
    "        self.event_lock  = \"\"\n",
    "        \n",
    "    @property\n",
    "    def balance(self):\n",
    "        return self.__balance\n",
    "    \n",
    "    @balance.setter\n",
    "    def balance(self, value):\n",
    "        self.__balance = value\n",
    "        \n",
    "class Event:\n",
    " \n",
    "    def __init__(self, event_name, participants):\n",
    "        '''\n",
    "        takes an event name and list of participants\n",
    "        \n",
    "        1.Checks that all elements in list are Person objects\n",
    "        2.Checks participant event lock to see if participants are already participating in a different event\n",
    "        \n",
    "        '''\n",
    "        \n",
    "        #validation\n",
    "        \n",
    "        if not all(isinstance(x, Person) for x in participants):\n",
    "            print(\"Only partcipants who are people objects can be added\")\n",
    "        \n",
    "        elif any(x.event_lock != \"\" for x in participants):\n",
    "            print(\"Already participating in an event, cannot add\")\n",
    "            \n",
    "        self.event_name = event_name\n",
    "        self.participants = participants\n",
    "        self.expenses = []\n",
    "        self.__total = 0\n",
    "        \n",
    "    @property\n",
    "    def total(self):\n",
    "        \n",
    "        \n",
    "        return self.__total\n",
    "    \n",
    "    @total.setter\n",
    "    def total(self, value):\n",
    "        self.__total = value\n",
    "        \n",
    "    def add_trans(self, name, amount, payee):\n",
    "        \"\"\"\n",
    "        method, takes a name, amount and payee\n",
    "        \n",
    "        1.Checks that amount is above zero and is either a float or int\n",
    "        2.Checks that transaction name is a string\n",
    "        3.Checks that payee is in event participant list\n",
    "        \n",
    "        If all okay:\n",
    "        1. creates a transaction instance, appends it's name to the exepnses list\n",
    "        2. increments the event total by the transaction amount\n",
    "        3. increments payee balance by the transaction amount\n",
    "        \n",
    "        \n",
    "        \"\"\"\n",
    "        \n",
    "        if (amount <= 0) or not isinstance(amount, (float,int)):\n",
    "            return f\"Amount input({amount}) is not a positive number, transaction not created.\"\n",
    "            \n",
    "        elif not isinstance(name, str):\n",
    "            return f\"Transaction name must be a string input.\"\n",
    "            \n",
    "        elif not any(x == payee for x in self.participants):\n",
    "            return f\"Payee entered is not in participant list, please enter a payee who is participating in the event\"\n",
    "        else:\n",
    "            name = Transaction(name, amount, payee)\n",
    "            self.expenses.append(name) \n",
    "            self.total += amount\n",
    "            payee.balance += amount\n",
    "            \n",
    "        \n",
    "    def release_participants(self):\n",
    "        \"\"\"\n",
    "            If event total is zero (can only take place following reconciliation or when no transactions added yet):\n",
    "                -set all participant event locks to empty string and participant list to empty\n",
    "                -print info string \n",
    "            Else:\n",
    "                - print info string \n",
    "        \"\"\"\n",
    "        if self.total == 0:\n",
    "            for i in range(len(self.participants)):\n",
    "                self.participants[i].event_lock = \"\"\n",
    "            self.participants= []\n",
    "            \n",
    "            print(\"Participants may now take part in another event, have a nice day.\")\n",
    "        else:\n",
    "            print(\"Outstanding balance, participants must first reconcile event balance\")\n",
    "                \n",
    "        \n",
    "        \n",
    "        \n",
    "        \n",
    "    def total_cost(self):\n",
    "        \"\"\"\n",
    "        Method for checking the current total and the amount per participant:\n",
    "        1. prints formatted string where it prints the total amount, and the total amount divided by nubmer of paritcipants\n",
    "        \n",
    "        \"\"\"\n",
    "        return f\"Total: €{self.total}, that is €{round(self.total/len(self.participants), 2)} each.\"\n",
    "    \n",
    "    \n",
    "    def reconcile(self):\n",
    "        \n",
    "        \"\"\"\n",
    "        Used to reconcile the amounts owed by partipants to one another\n",
    "        \n",
    "        1.Prints formatted balance for all participants\n",
    "        2. Subtracts contribution for each participcants(also truncates values past 2nd decimal place)\n",
    "        3. Prints formatted balance following contribution\n",
    "        4. Adds participants to either creditor or debitor list\n",
    "        5. Uses a nested for loop to iterate all debitors over all creditors\n",
    "            - if debitor abs balance is greater than creditor abs balance:\n",
    "                -adds creditor balance to debitor balance\n",
    "                -print formatted message of operation\n",
    "                - set creditor balance to 0\n",
    "                -break\n",
    "             - else if creditor abs value greater than debitor abs value\n",
    "                -add creditor balance to debitor balance\n",
    "                -print formatted message of operation\n",
    "                -set debitor balance to 0\n",
    "             - else (creditor balance = debitor balance)\n",
    "                 - set both to zero\n",
    "                 -print formatted message of operation\n",
    "                 \n",
    "            -set event_total to 0\n",
    "                \n",
    "        \n",
    "        \"\"\"\n",
    "        \n",
    "        #printing overall total\n",
    "        \n",
    "        for i in range(len(self.participants)):\n",
    "            print(f\"{self.participants[i].name} has a balance of {self.participants[i].balance}\")\n",
    "            \n",
    "        #subtracting contribution\n",
    "        for i in range(len(self.participants)):\n",
    "            self.participants[i].balance -= self.total/len(self.participants)\n",
    "            \n",
    "            #truncating values beyond 2 decimal places for all participantss\n",
    "            self.participants[i].balance = int(self.participants[i].balance*100)/100\n",
    "        \n",
    "        print()\n",
    "        \n",
    "        \n",
    "        #printing explination of breakdown for users\n",
    "        print(f\"After subtracting contribution of {round(self.total/len(self.participants), 2)} each, total is as follows: \")\n",
    "        for i in range(len(self.participants)):\n",
    "            print(\"{} has a balance of {}\".format(self.participants[i].name,self.participants[i].balance))\n",
    "            \n",
    "        print(\"\\n\")\n",
    "        \n",
    "        creditors = []\n",
    "        debitors = []\n",
    "\n",
    "        for i in range(len(self.participants)):\n",
    "            if self.participants[i].balance > 0:\n",
    "                creditors.append(self.participants[i]) \n",
    "            elif self.participants[i].balance < 0:\n",
    "                debitors.append(self.participants[i])\n",
    "                \n",
    "        \n",
    "                \n",
    "        for i in range(len(creditors)):\n",
    "            for j in range(len(debitors)):\n",
    "                if (creditors[i].balance + debitors[j].balance) < 0:\n",
    "        \n",
    "                    print(f\"{debitors[j].name} pays {creditors[i].name} €{round(creditors[i].balance,2)} \")\n",
    "                    debitors[j].balance += creditors[i].balance\n",
    "                    creditors[i].balance = 0\n",
    "                    break\n",
    "            \n",
    "            \n",
    "                elif (creditors[i].balance + debitors[j].balance) > 0:\n",
    "\n",
    "                    print(f\"{debitors[j].name} pays {creditors[i].name} €{round(debitors[j].balance,2)} \")\n",
    "                    creditors[i].balance += debitors[j].balance\n",
    "                    debitors[j].balance = 0\n",
    "            \n",
    "                else:\n",
    "                    \n",
    "                    print(f\"{debitors[j].name} pays {creditors[i].name} €{round(creditors[i].balance,2)} \")\n",
    "                    creditors[i].balance = 0\n",
    "                    debitors[j].balance = 0\n",
    "\n",
    "                    break\n",
    "        \n",
    "        #handling imprecision associated with floats\n",
    "        \n",
    "        for i in range(len(self.participants)):\n",
    "            if self.participants[i].balance < 0.01:\n",
    "                self.participants[i].balance = 0\n",
    "            \n",
    "        self.total = 0\n",
    "        self.expenses = []\n",
    "        \n",
    "        \n",
    "\n",
    "#transaction class\n",
    "            \n",
    "class Transaction():\n",
    "    def __init__(self, name, amount, payee):\n",
    "        \"\"\"\n",
    "        Takes a name, amount and payee. \n",
    "        Input validation is performed in the add_trans() method in the Event class\n",
    "        \"\"\"\n",
    "   \n",
    "        self.name = name\n",
    "        self.amount= amount\n",
    "        self.payee = payee    \n",
    "    \n"
   ]
  },
  {
   "cell_type": "markdown",
   "metadata": {},
   "source": [
    "Standard inputs"
   ]
  },
  {
   "cell_type": "markdown",
   "metadata": {},
   "source": [
    "Concert example"
   ]
  },
  {
   "cell_type": "code",
   "execution_count": null,
   "metadata": {},
   "outputs": [],
   "source": [
    "a = Person(\"Annie\")\n",
    "s = Person(\"Sally\")\n",
    "b = Person(\"Bill\")\n",
    "c = Person(\"Extra\")"
   ]
  },
  {
   "cell_type": "code",
   "execution_count": null,
   "metadata": {},
   "outputs": [],
   "source": [
    "concert = Event(\"concert\", [a,s,b])"
   ]
  },
  {
   "cell_type": "code",
   "execution_count": null,
   "metadata": {},
   "outputs": [],
   "source": [
    "concert.add_trans(\"tickets\", 180, a)\n",
    "concert.add_trans(\"dinner\", 75, s)\n",
    "concert.add_trans(\"drinks\", 19, b)\n",
    "concert.add_trans(\"taxi\", 15, b)"
   ]
  },
  {
   "cell_type": "code",
   "execution_count": null,
   "metadata": {},
   "outputs": [],
   "source": [
    "concert.total_cost()"
   ]
  },
  {
   "cell_type": "code",
   "execution_count": null,
   "metadata": {},
   "outputs": [],
   "source": [
    "concert.reconcile()"
   ]
  },
  {
   "cell_type": "markdown",
   "metadata": {},
   "source": [
    "Cinema example"
   ]
  },
  {
   "cell_type": "code",
   "execution_count": null,
   "metadata": {},
   "outputs": [],
   "source": [
    "c = Person(\"Cathy\")\n",
    "r = Person(\"Robin\")\n",
    "j = Person(\"Jen\")"
   ]
  },
  {
   "cell_type": "code",
   "execution_count": null,
   "metadata": {},
   "outputs": [],
   "source": [
    "cinema = Event(\"cinema\", [c,r,j])"
   ]
  },
  {
   "cell_type": "code",
   "execution_count": null,
   "metadata": {
    "scrolled": false
   },
   "outputs": [],
   "source": [
    "cinema.add_trans(\"tickets\", 33, c)\n",
    "cinema.add_trans(\"dinner\", 60, r)\n",
    "cinema.add_trans(\"drinks\", 21, j)\n",
    "cinema.add_trans(\"taxi\", 27, j)"
   ]
  },
  {
   "cell_type": "code",
   "execution_count": null,
   "metadata": {},
   "outputs": [],
   "source": [
    "cinema.total"
   ]
  },
  {
   "cell_type": "code",
   "execution_count": null,
   "metadata": {},
   "outputs": [],
   "source": [
    "cinema.reconcile()"
   ]
  },
  {
   "cell_type": "markdown",
   "metadata": {},
   "source": [
    "Weekend example"
   ]
  },
  {
   "cell_type": "code",
   "execution_count": null,
   "metadata": {},
   "outputs": [],
   "source": [
    "n = Person(\"Nora\")\n",
    "e = Person(\"Eva\")\n",
    "f = Person(\"Frankie\")\n",
    "h = Person(\"Harry\")"
   ]
  },
  {
   "cell_type": "code",
   "execution_count": null,
   "metadata": {},
   "outputs": [],
   "source": [
    "weekend = Event(\"weekend\", [n,e,f,h])"
   ]
  },
  {
   "cell_type": "code",
   "execution_count": null,
   "metadata": {},
   "outputs": [],
   "source": [
    "weekend.add_trans(\"dinner\", 110, n)\n",
    "weekend.add_trans(\"lunch\", 60, e)\n",
    "weekend.add_trans(\"dinner\", 125, f)\n",
    "weekend.add_trans(\"lunch\", 70, h)"
   ]
  },
  {
   "cell_type": "code",
   "execution_count": null,
   "metadata": {},
   "outputs": [],
   "source": [
    "weekend.reconcile()"
   ]
  },
  {
   "cell_type": "code",
   "execution_count": null,
   "metadata": {},
   "outputs": [],
   "source": [
    "weekend.total_cost()"
   ]
  },
  {
   "cell_type": "code",
   "execution_count": null,
   "metadata": {},
   "outputs": [],
   "source": [
    "concert.release_participants()"
   ]
  }
 ],
 "metadata": {
  "kernelspec": {
   "display_name": "Python 3",
   "language": "python",
   "name": "python3"
  },
  "language_info": {
   "codemirror_mode": {
    "name": "ipython",
    "version": 3
   },
   "file_extension": ".py",
   "mimetype": "text/x-python",
   "name": "python",
   "nbconvert_exporter": "python",
   "pygments_lexer": "ipython3",
   "version": "3.7.6"
  }
 },
 "nbformat": 4,
 "nbformat_minor": 4
}
